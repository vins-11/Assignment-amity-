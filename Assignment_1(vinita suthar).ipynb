{
 "cells": [
  {
   "cell_type": "markdown",
   "id": "330f4aa4",
   "metadata": {},
   "source": [
    "#### To Display and find the size of all data types in python"
   ]
  },
  {
   "cell_type": "code",
   "execution_count": 29,
   "id": "f5838736",
   "metadata": {},
   "outputs": [
    {
     "name": "stdout",
     "output_type": "stream",
     "text": [
      "28 size of int\n",
      "55 size of str\n",
      "88 size of tuple\n",
      "104 size of list\n",
      "216 size of set\n",
      "232 size of dict\n"
     ]
    }
   ],
   "source": [
    "import sys\n",
    "\n",
    "a=sys.getsizeof(12)\n",
    "print(a, \"size of int\")\n",
    "\n",
    "b=sys.getsizeof(\"vinita\")\n",
    "print(b, \"size of str\")\n",
    "\n",
    "c=sys.getsizeof(('v','i','n','i','t','a'))\n",
    "print(c, \"size of tuple\")\n",
    "\n",
    "d=sys.getsizeof(['v','i','n','i','t','a'])\n",
    "print(d, \"size of list\")\n",
    "\n",
    "e=sys.getsizeof({1,2,3,4})\n",
    "print(e, \"size of set\")\n",
    "\n",
    "f=sys.getsizeof({1:'a',2:'b',3:'c',4:'d'})\n",
    "print(f, \"size of dict\")\n"
   ]
  },
  {
   "cell_type": "markdown",
   "id": "5ee1cb97",
   "metadata": {},
   "source": [
    "#### To work with different operators including lazy operators."
   ]
  },
  {
   "cell_type": "code",
   "execution_count": 39,
   "id": "f31098a7",
   "metadata": {},
   "outputs": [
    {
     "name": "stdout",
     "output_type": "stream",
     "text": [
      "7\n",
      "-3\n",
      "10\n",
      "0.4\n"
     ]
    }
   ],
   "source": [
    "# Arithmetic operators\n",
    "x = 2\n",
    "y = 5\n",
    "print(x+y) #Addition\n",
    "print(x-y) #Subtraction\n",
    "print(x*y) #Multiplication\n",
    "print(x/y) #Division"
   ]
  },
  {
   "cell_type": "code",
   "execution_count": 41,
   "id": "bdf6d245",
   "metadata": {},
   "outputs": [
    {
     "name": "stdout",
     "output_type": "stream",
     "text": [
      "-7\n"
     ]
    }
   ],
   "source": [
    "# Assignment operators\n",
    "i = 2\n",
    "i -= 9\n",
    "print(i)"
   ]
  },
  {
   "cell_type": "code",
   "execution_count": 42,
   "id": "39b984a5",
   "metadata": {},
   "outputs": [
    {
     "name": "stdout",
     "output_type": "stream",
     "text": [
      "90\n"
     ]
    }
   ],
   "source": [
    "l = 9\n",
    "l *= 10\n",
    "print(l)"
   ]
  },
  {
   "cell_type": "code",
   "execution_count": 45,
   "id": "a154f32d",
   "metadata": {},
   "outputs": [
    {
     "name": "stdout",
     "output_type": "stream",
     "text": [
      "2\n"
     ]
    }
   ],
   "source": [
    "s = 5\n",
    "s %= 3\n",
    "print(s)"
   ]
  },
  {
   "cell_type": "code",
   "execution_count": 58,
   "id": "8a57cef5",
   "metadata": {},
   "outputs": [
    {
     "name": "stdout",
     "output_type": "stream",
     "text": [
      "Equal:  False\n",
      "Not Equal:  True\n",
      "Less than:  False\n",
      "Greater than:  True\n"
     ]
    }
   ],
   "source": [
    "#Comparison Operators\n",
    "c = 12\n",
    "k = 10\n",
    "print(\"Equal: \",c==k)\n",
    "print(\"Not Equal: \",c != k)\n",
    "print(\"Less than: \",c<k)\n",
    "print(\"Greater than: \",c>k)"
   ]
  },
  {
   "cell_type": "markdown",
   "id": "8a0f4677",
   "metadata": {},
   "source": [
    "#### Logical Operators"
   ]
  },
  {
   "cell_type": "code",
   "execution_count": 59,
   "id": "ea34bcb1",
   "metadata": {},
   "outputs": [
    {
     "name": "stdout",
     "output_type": "stream",
     "text": [
      "True\n"
     ]
    }
   ],
   "source": [
    "x = 5\n",
    "print(x > 2 and x < 6)\n",
    "\n",
    "# output True because 5 is greater than 2 AND 5 is less than 6"
   ]
  },
  {
   "cell_type": "code",
   "execution_count": 61,
   "id": "e08b3212",
   "metadata": {},
   "outputs": [
    {
     "name": "stdout",
     "output_type": "stream",
     "text": [
      "True\n"
     ]
    }
   ],
   "source": [
    "x = 5\n",
    "\n",
    "print(x > 3 or x < 4)\n",
    "\n",
    "# output True because one of the conditions are true (5 is greater than 3, but 5 is not less than 4)\n"
   ]
  },
  {
   "cell_type": "code",
   "execution_count": 63,
   "id": "8ac03309",
   "metadata": {},
   "outputs": [
    {
     "name": "stdout",
     "output_type": "stream",
     "text": [
      "False\n"
     ]
    }
   ],
   "source": [
    "x = 5\n",
    "\n",
    "print(not(x > 3 and x < 10))\n",
    "\n",
    "# output False because not is used to reverse the result\n"
   ]
  },
  {
   "cell_type": "markdown",
   "id": "91b1181d",
   "metadata": {},
   "source": [
    "#### lazy operators"
   ]
  },
  {
   "cell_type": "code",
   "execution_count": 69,
   "id": "7b445c1e",
   "metadata": {},
   "outputs": [
    {
     "name": "stdout",
     "output_type": "stream",
     "text": [
      "1\n",
      "2\n",
      "3\n",
      "4\n",
      "5\n",
      "6\n",
      "7\n",
      "8\n",
      "9\n",
      "10\n"
     ]
    }
   ],
   "source": [
    "for i in range(1, 11):  #using range\n",
    "    print(i)"
   ]
  },
  {
   "cell_type": "code",
   "execution_count": 75,
   "id": "c8503ff2",
   "metadata": {},
   "outputs": [
    {
     "name": "stdout",
     "output_type": "stream",
     "text": [
      "(('Apple', 'Orange'), ('Mango', 'Kiwi'))\n"
     ]
    }
   ],
   "source": [
    "# using Zip function\n",
    "a = (\"Apple\", \"Mango\")\n",
    "b = (\"Orange\", \"Kiwi\")\n",
    "\n",
    "x = zip(a, b)\n",
    "#use the tuple() function to display\n",
    "print(tuple(x))"
   ]
  },
  {
   "cell_type": "code",
   "execution_count": 77,
   "id": "7be8234f",
   "metadata": {},
   "outputs": [
    {
     "name": "stdout",
     "output_type": "stream",
     "text": [
      "Hello,\n",
      "I'm vinita suthar\n"
     ]
    }
   ],
   "source": [
    "# Using Open function\n",
    "f = open(\"Demo.txt\", \"r\")\n",
    "print(f.read())\n"
   ]
  },
  {
   "cell_type": "code",
   "execution_count": 83,
   "id": "3c43f2a2",
   "metadata": {},
   "outputs": [],
   "source": [
    "length = list(map(len, [\"hello\", \"\", \"goodbye\", \"wonderful\", \"I love Python\"])) # using Map function we can find out length of string in list\n"
   ]
  },
  {
   "cell_type": "code",
   "execution_count": 81,
   "id": "10b712e2",
   "metadata": {},
   "outputs": [
    {
     "data": {
      "text/plain": [
       "[5, 0, 7, 9, 13]"
      ]
     },
     "execution_count": 81,
     "metadata": {},
     "output_type": "execute_result"
    }
   ],
   "source": [
    "length"
   ]
  },
  {
   "cell_type": "code",
   "execution_count": 85,
   "id": "df55111f",
   "metadata": {},
   "outputs": [
    {
     "name": "stdout",
     "output_type": "stream",
     "text": [
      "[['h', 'e', 'l', 'l', 'o'], [], ['g', 'o', 'o', 'd', 'b', 'y', 'e'], ['w', 'o', 'n', 'd', 'e', 'r', 'f', 'u', 'l'], ['I', ' ', 'l', 'o', 'v', 'e', ' ', 'P', 'y', 't', 'h', 'o', 'n']]\n"
     ]
    }
   ],
   "source": [
    "\n",
    "# List of strings\n",
    "l = [\"hello\",\"\",\"goodbye\",\"wonderful\",\"I love Python\"]\n",
    "test = list(map(list, l))\n",
    "print(test)      # map() can listify the list of strings individually"
   ]
  }
 ],
 "metadata": {
  "kernelspec": {
   "display_name": "Python 3",
   "language": "python",
   "name": "python3"
  },
  "language_info": {
   "codemirror_mode": {
    "name": "ipython",
    "version": 3
   },
   "file_extension": ".py",
   "mimetype": "text/x-python",
   "name": "python",
   "nbconvert_exporter": "python",
   "pygments_lexer": "ipython3",
   "version": "3.8.8"
  }
 },
 "nbformat": 4,
 "nbformat_minor": 5
}
